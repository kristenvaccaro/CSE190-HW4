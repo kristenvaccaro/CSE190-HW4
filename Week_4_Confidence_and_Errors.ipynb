{
  "nbformat": 4,
  "nbformat_minor": 2,
  "metadata": {
    "kernelspec": {
      "display_name": "Python 3",
      "language": "python",
      "name": "python3"
    },
    "language_info": {
      "codemirror_mode": {
        "name": "ipython",
        "version": 3
      },
      "file_extension": ".py",
      "mimetype": "text/x-python",
      "name": "python",
      "nbconvert_exporter": "python",
      "pygments_lexer": "ipython3",
      "version": "3.6.8"
    },
    "toc": {
      "base_numbering": 1,
      "nav_menu": {},
      "number_sections": false,
      "sideBar": false,
      "skip_h1_title": false,
      "title_cell": "Table of Contents",
      "title_sidebar": "Contents",
      "toc_cell": false,
      "toc_position": {},
      "toc_section_display": false,
      "toc_window_display": false
    },
    "colab": {
      "name": "Week_1_Understanding_Data.ipynb",
      "provenance": [],
      "collapsed_sections": []
    }
  },
  "cells": [
    {
      "cell_type": "markdown",
      "source": [
        "# Designing a Bus-Tracking App\n",
        "In this assignment you will design a bus-tracking app with failure in mind. You will evaluate about how confidence and errors in perdictions (and how they are presented to the user) affect user experience. With this in mind, you will leverage knowlege and technqiues learned in class and through the readings to create an app with the best user experience."
      ],
      "metadata": {
        "id": "8HhoaZMxrZXZ"
      }
    },
    {
      "cell_type": "markdown",
      "source": [
        "## Part 1: Conveying confidence in perdictions\n",
        "\n",
        "Students are upset with the current bus service/tracking app for getting around campus. The app uses a model to get an estimated arrival time for the bus. The app shows the arrival time without giving any amount of certainty in the perdection. This causes people to be very upset when the arrival time is inaccurate. \n",
        "\n",
        "As a HCI professional, you're tasked with improving this service to maximize user satisfaction when waiting for the bus. How can you effectively convey your confidence in the arrival time, even when the arrival time won't always be accurate.\n",
        "\n",
        "### Task: Sketch three visualizations of an improved bussing app which conveys the confidence of arrival time perdictions in a way which improves users satsifaction"
      ],
      "metadata": {}
    },
    {
      "cell_type": "markdown",
      "source": [
        "_Attach a pdf with your sketches. Please include any annotations/description on the pdf itself (not in this notebook)._"
      ],
      "metadata": {
        "id": "n4NcLliIhFS8"
      }
    },
    {
      "cell_type": "markdown",
      "source": [
        "## Part 2: Conveying errors in perdictions\n",
        "\n",
        "The arrival time perdictions are bound to inaccurate at least some of the time. As much as the model is improved, there is no way around this. How can you convey these failures in predictions gracefully?\n",
        "\n",
        "### Task: Describe how might you convey these errors in a way which helps users to be more understanding"
      ],
      "metadata": {
        "id": "nviFxr3-rZXj"
      }
    },
    {
      "cell_type": "markdown",
      "source": [
        "*Double click to write your answer here.*"
      ],
      "metadata": {
        "id": "nSXPUbp_BTIH"
      }
    },
    {
      "cell_type": "markdown",
      "source": [
        "## Part 3: Managing expectations\n",
        "\n",
        "Being an HCI professional, you know that people's expectations around a model can greatly affect their perception when using it. Now that you've help design this new app, the univeristy wishes to market it to students. They ask you for guidence in doing so.\n",
        "\n",
        "### Task: Describe how the university might advertise the app in a way which would lead to a greater satisfaction rate."
      ],
      "metadata": {
        "id": "nviFxr3-rZXj"
      }
    },
    {
      "cell_type": "markdown",
      "source": [
        "*Double click to write your answer here.*"
      ],
      "metadata": {
        "id": "nSXPUbp_BTIH"
      }
    }
  ]
}